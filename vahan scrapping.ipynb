{
 "cells": [
  {
   "cell_type": "code",
   "execution_count": 1,
   "metadata": {},
   "outputs": [],
   "source": [
    "from selenium import webdriver\n",
    "import urllib.request\n",
    "import cv2\n",
    "import pytesseract"
   ]
  },
  {
   "cell_type": "code",
   "execution_count": 21,
   "metadata": {},
   "outputs": [
    {
     "name": "stdout",
     "output_type": "stream",
     "text": [
      "8NP8Q6\n"
     ]
    }
   ],
   "source": [
    "import bs4\n",
    "import time\n",
    "from PIL import Image\n",
    "driver=webdriver.Chrome()\n",
    "driver.get('http://vahan.nic.in//nrservices//faces//user//searchstatus.xhtml')\n",
    "click_btn = driver.find_element_by_xpath('//*[@id=\"navbarSupportedContent\"]/ul[1]/li[3]/a')\n",
    "time.sleep(5)\n",
    "click_btn.click()\n",
    "time.sleep(2)\n",
    "\n",
    "\n",
    "img=driver.find_element_by_xpath('/html/body/form/div[1]/div[3]/div/div[2]/div/div/div[2]/div[3]/div[3]/div/img') #viewing the image of captacha\n",
    "\n",
    "#stroing the captacha that is shown in the page\n",
    "img_captcha_base64 = driver.execute_async_script('''\n",
    "        var ele = arguments[0], callback = arguments[1];\n",
    "        ele.addEventListener('load', function fn(){\n",
    "          ele.removeEventListener('load', fn, false);\n",
    "          var cnv = document.createElement('canvas');\n",
    "          cnv.width = this.width; cnv.height = this.height;\n",
    "          cnv.getContext('2d').drawImage(this, 0, 0);\n",
    "          callback(cnv.toDataURL('image/jpeg').substring(22));\n",
    "        }, false);\n",
    "        ele.dispatchEvent(new Event('load'));\n",
    "        ''', img)   #https://gist.github.com/spirkaa/4c3b8ad8fd34324bd307\n",
    "\n",
    "import base64\n",
    "# print(img_captcha_base64)\n",
    "with open(r\"captcha.png\", 'wb') as f:\n",
    "    f.write(base64.b64decode(img_captcha_base64))\n",
    "\n",
    "    \n",
    "#removing the line in the captacha\n",
    "img = cv2.imread('captcha.png',0)\n",
    "ret, thresh_img = cv2.threshold(img, 180, 255, cv2.THRESH_BINARY_INV)\n",
    "cv2.imshow('grey image',thresh_img)\n",
    "cv2.imwrite(\"result11.png\", thresh_img)\n",
    "cv2.waitKey(1)\n",
    "cv2.destroyAllWindows()\n",
    "\n",
    "time.sleep(15)\n",
    "\n",
    "pytesseract.pytesseract.tesseract_cmd = 'C:\\\\Program Files\\\\Tesseract-OCR\\\\tesseract.exe'\n",
    "text = pytesseract.image_to_string('result11.png')\n",
    "print(text)\n",
    "\n",
    "name_plate = driver.find_element_by_xpath('//*[@id=\"regn_no1_exact\"]')\n",
    "name_plate.send_keys(\"MH12DE1433\")\n",
    "\n",
    "verification_code = driver.find_element_by_xpath('//*[@id=\"txt_ALPHA_NUMERIC\"]')\n",
    "verification_code.send_keys(text)\n",
    "time.sleep(15)\n",
    "submit_btn = driver.find_element_by_xpath('/html/body/form/div[1]/div[3]/div/div[2]/div/div/div[2]/div[5]/div/button/span')\n",
    "submit_btn.click()"
   ]
  },
  {
   "cell_type": "code",
   "execution_count": 22,
   "metadata": {},
   "outputs": [
    {
     "name": "stdout",
     "output_type": "stream",
     "text": [
      "1. Registering Authority: PUNE, Maharashtra\n",
      "Registration No: MH12DE1433\n",
      "Registration Date: 28-Feb-2006\n",
      "Chasis No: MAJBXXMRTB6Y****6\n",
      "Engine No: 6Y****6\n",
      "Owner Name: GOLWILKAR JAYANT\n",
      "Vehicle Class: Motor Car(LMV)\n",
      "Fuel PETROL\n",
      "Model FORD INDIA PVT LTD / FIESTA 1.6 SXI ABS\n",
      "Fitness/REGN Upto27-Feb-2021\n",
      "Insurance Details: Bajaj Allianz General Insurance Co. Ltd. vide policy no OG-19-2001-1801-00010546 valid upto 21-Feb-2020\n",
      "Noc Details: NOC issued for PIMPRI-CHINCHWAD,Maharashtra (MH14) vide no MH/12/NOC/2019/26351 dated 28-Jun-2019 reason sold the vehicle\n"
     ]
    }
   ],
   "source": [
    "registration_authority=driver.find_element_by_xpath('//*[@id=\"rcDetailsPanel\"]/table/tbody/tr[1]/td/div')\n",
    "print(registration_authority.text)\n",
    "\n",
    "registration_no = driver.find_element_by_xpath('//*[@id=\"rcDetailsPanel\"]/table/tbody/tr[2]/td[2]')\n",
    "print(\"Registration No: \"+str(registration_no.text))\n",
    "\n",
    "Registration_date = driver.find_element_by_xpath('/html/body/form/div[1]/div[3]/div/div[2]/div/div/div[2]/div[6]/div/div/div/table/tbody/tr[2]/td[4]')\n",
    "print(\"Registration Date: \"+str(Registration_date.text))\n",
    "\n",
    "chassis_no = driver.find_element_by_xpath('//*[@id=\"rcDetailsPanel\"]/table/tbody/tr[3]/td[2]')\n",
    "print(\"Chasis No: \"+str(chassis_no.text))\n",
    "\n",
    "engine_no = driver.find_element_by_xpath('//*[@id=\"rcDetailsPanel\"]/table/tbody/tr[3]/td[4]')\n",
    "print(\"Engine No: \"+str(engine_no.text))\n",
    "\n",
    "owner_name = driver.find_element_by_xpath('//*[@id=\"rcDetailsPanel\"]/table/tbody/tr[4]/td[2]')\n",
    "print(\"Owner Name: \"+str(owner_name.text))\n",
    "\n",
    "vehicle_class = driver.find_element_by_xpath('//*[@id=\"rcDetailsPanel\"]/table/tbody/tr[5]/td[2]')\n",
    "print(\"Vehicle Class: \"+str(vehicle_class.text))\n",
    "\n",
    "fuel = driver.find_element_by_xpath('//*[@id=\"rcDetailsPanel\"]/table/tbody/tr[5]/td[4]')\n",
    "print(\"Fuel \"+str(fuel.text))\n",
    "\n",
    "model = driver.find_element_by_xpath('//*[@id=\"rcDetailsPanel\"]/table/tbody/tr[6]/td[2]')\n",
    "print(\"Model \"+str(model.text))\n",
    "\n",
    "Fitness_REGN_Upto= driver.find_element_by_xpath('//*[@id=\"rcDetailsPanel\"]/table/tbody/tr[7]/td[2]')\n",
    "print(\"Fitness/REGN Upto\"+str(Fitness_REGN_Upto.text))\n",
    "\n",
    "insurance = driver.find_element_by_xpath('//*[@id=\"rcDetailsPanel\"]/table/tbody/tr[8]/td[2]')\n",
    "print(\"Insurance Details: \"+str(insurance.text))\n",
    "\n",
    "noc_details = driver.find_element_by_xpath('//*[@id=\"rcDetailsPanel\"]/table/tbody/tr[11]/td[2]')\n",
    "print(\"Noc Details: \"+str(noc_details.text))"
   ]
  },
  {
   "cell_type": "code",
   "execution_count": null,
   "metadata": {},
   "outputs": [],
   "source": []
  }
 ],
 "metadata": {
  "kernelspec": {
   "display_name": "Python 3",
   "language": "python",
   "name": "python3"
  },
  "language_info": {
   "codemirror_mode": {
    "name": "ipython",
    "version": 3
   },
   "file_extension": ".py",
   "mimetype": "text/x-python",
   "name": "python",
   "nbconvert_exporter": "python",
   "pygments_lexer": "ipython3",
   "version": "3.6.5"
  }
 },
 "nbformat": 4,
 "nbformat_minor": 2
}
